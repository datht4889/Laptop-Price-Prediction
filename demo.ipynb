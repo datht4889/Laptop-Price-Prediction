{
  "cells": [
    {
      "cell_type": "code",
      "execution_count": 16,
      "metadata": {
        "colab": {
          "base_uri": "https://localhost:8080/",
          "height": 443
        },
        "id": "7n33_BSmm0Gh",
        "outputId": "d3203ae3-fecd-4c0d-fb74-3bed4cd4728c"
      },
      "outputs": [
        {
          "data": {
            "text/html": [
              "<div>\n",
              "<style scoped>\n",
              "    .dataframe tbody tr th:only-of-type {\n",
              "        vertical-align: middle;\n",
              "    }\n",
              "\n",
              "    .dataframe tbody tr th {\n",
              "        vertical-align: top;\n",
              "    }\n",
              "\n",
              "    .dataframe thead th {\n",
              "        text-align: right;\n",
              "    }\n",
              "</style>\n",
              "<table border=\"1\" class=\"dataframe\">\n",
              "  <thead>\n",
              "    <tr style=\"text-align: right;\">\n",
              "      <th></th>\n",
              "      <th>screen_size</th>\n",
              "      <th>screen_resolution</th>\n",
              "      <th>cpu_speed</th>\n",
              "      <th>ram</th>\n",
              "      <th>memory</th>\n",
              "      <th>weight</th>\n",
              "      <th>price</th>\n",
              "      <th>ppi</th>\n",
              "      <th>brand_acer</th>\n",
              "      <th>brand_apple</th>\n",
              "      <th>...</th>\n",
              "      <th>gpu_description_integrated</th>\n",
              "      <th>OpSys_mac_os</th>\n",
              "      <th>OpSys_windows</th>\n",
              "      <th>color_black</th>\n",
              "      <th>color_blue</th>\n",
              "      <th>color_gold</th>\n",
              "      <th>color_grey</th>\n",
              "      <th>color_other</th>\n",
              "      <th>color_silver</th>\n",
              "      <th>color_white</th>\n",
              "    </tr>\n",
              "  </thead>\n",
              "  <tbody>\n",
              "    <tr>\n",
              "      <th>0</th>\n",
              "      <td>1.193125</td>\n",
              "      <td>6.020812</td>\n",
              "      <td>0.477121</td>\n",
              "      <td>1.20412</td>\n",
              "      <td>3.01030</td>\n",
              "      <td>0.706718</td>\n",
              "      <td>2.777427</td>\n",
              "      <td>2.001970</td>\n",
              "      <td>0</td>\n",
              "      <td>0</td>\n",
              "      <td>...</td>\n",
              "      <td>1</td>\n",
              "      <td>0</td>\n",
              "      <td>1</td>\n",
              "      <td>0</td>\n",
              "      <td>0</td>\n",
              "      <td>0</td>\n",
              "      <td>0</td>\n",
              "      <td>1</td>\n",
              "      <td>0</td>\n",
              "      <td>0</td>\n",
              "    </tr>\n",
              "    <tr>\n",
              "      <th>1</th>\n",
              "      <td>1.204120</td>\n",
              "      <td>6.612360</td>\n",
              "      <td>0.672098</td>\n",
              "      <td>1.50515</td>\n",
              "      <td>3.01030</td>\n",
              "      <td>0.723456</td>\n",
              "      <td>3.155333</td>\n",
              "      <td>2.275725</td>\n",
              "      <td>1</td>\n",
              "      <td>0</td>\n",
              "      <td>...</td>\n",
              "      <td>0</td>\n",
              "      <td>0</td>\n",
              "      <td>1</td>\n",
              "      <td>0</td>\n",
              "      <td>0</td>\n",
              "      <td>0</td>\n",
              "      <td>0</td>\n",
              "      <td>0</td>\n",
              "      <td>1</td>\n",
              "      <td>0</td>\n",
              "    </tr>\n",
              "    <tr>\n",
              "      <th>2</th>\n",
              "      <td>1.193125</td>\n",
              "      <td>6.316725</td>\n",
              "      <td>0.681241</td>\n",
              "      <td>0.90309</td>\n",
              "      <td>2.70927</td>\n",
              "      <td>0.644439</td>\n",
              "      <td>2.958516</td>\n",
              "      <td>2.149872</td>\n",
              "      <td>0</td>\n",
              "      <td>0</td>\n",
              "      <td>...</td>\n",
              "      <td>0</td>\n",
              "      <td>0</td>\n",
              "      <td>1</td>\n",
              "      <td>0</td>\n",
              "      <td>0</td>\n",
              "      <td>0</td>\n",
              "      <td>1</td>\n",
              "      <td>0</td>\n",
              "      <td>0</td>\n",
              "      <td>0</td>\n",
              "    </tr>\n",
              "    <tr>\n",
              "      <th>3</th>\n",
              "      <td>1.146128</td>\n",
              "      <td>6.316725</td>\n",
              "      <td>0.278754</td>\n",
              "      <td>1.50515</td>\n",
              "      <td>3.31133</td>\n",
              "      <td>0.588832</td>\n",
              "      <td>2.690187</td>\n",
              "      <td>2.196868</td>\n",
              "      <td>0</td>\n",
              "      <td>0</td>\n",
              "      <td>...</td>\n",
              "      <td>1</td>\n",
              "      <td>0</td>\n",
              "      <td>1</td>\n",
              "      <td>1</td>\n",
              "      <td>0</td>\n",
              "      <td>0</td>\n",
              "      <td>0</td>\n",
              "      <td>0</td>\n",
              "      <td>0</td>\n",
              "      <td>0</td>\n",
              "    </tr>\n",
              "    <tr>\n",
              "      <th>4</th>\n",
              "      <td>1.146128</td>\n",
              "      <td>6.612360</td>\n",
              "      <td>0.698970</td>\n",
              "      <td>1.20412</td>\n",
              "      <td>3.01030</td>\n",
              "      <td>0.574031</td>\n",
              "      <td>3.245510</td>\n",
              "      <td>2.333717</td>\n",
              "      <td>1</td>\n",
              "      <td>0</td>\n",
              "      <td>...</td>\n",
              "      <td>0</td>\n",
              "      <td>0</td>\n",
              "      <td>1</td>\n",
              "      <td>0</td>\n",
              "      <td>0</td>\n",
              "      <td>0</td>\n",
              "      <td>0</td>\n",
              "      <td>0</td>\n",
              "      <td>1</td>\n",
              "      <td>0</td>\n",
              "    </tr>\n",
              "    <tr>\n",
              "      <th>...</th>\n",
              "      <td>...</td>\n",
              "      <td>...</td>\n",
              "      <td>...</td>\n",
              "      <td>...</td>\n",
              "      <td>...</td>\n",
              "      <td>...</td>\n",
              "      <td>...</td>\n",
              "      <td>...</td>\n",
              "      <td>...</td>\n",
              "      <td>...</td>\n",
              "      <td>...</td>\n",
              "      <td>...</td>\n",
              "      <td>...</td>\n",
              "      <td>...</td>\n",
              "      <td>...</td>\n",
              "      <td>...</td>\n",
              "      <td>...</td>\n",
              "      <td>...</td>\n",
              "      <td>...</td>\n",
              "      <td>...</td>\n",
              "      <td>...</td>\n",
              "    </tr>\n",
              "    <tr>\n",
              "      <th>2430</th>\n",
              "      <td>1.193125</td>\n",
              "      <td>6.316725</td>\n",
              "      <td>0.623249</td>\n",
              "      <td>0.90309</td>\n",
              "      <td>2.70927</td>\n",
              "      <td>0.885361</td>\n",
              "      <td>3.106871</td>\n",
              "      <td>2.149872</td>\n",
              "      <td>1</td>\n",
              "      <td>0</td>\n",
              "      <td>...</td>\n",
              "      <td>0</td>\n",
              "      <td>0</td>\n",
              "      <td>1</td>\n",
              "      <td>0</td>\n",
              "      <td>0</td>\n",
              "      <td>0</td>\n",
              "      <td>0</td>\n",
              "      <td>1</td>\n",
              "      <td>0</td>\n",
              "      <td>0</td>\n",
              "    </tr>\n",
              "    <tr>\n",
              "      <th>2431</th>\n",
              "      <td>1.204120</td>\n",
              "      <td>6.362482</td>\n",
              "      <td>0.255273</td>\n",
              "      <td>1.20412</td>\n",
              "      <td>2.70927</td>\n",
              "      <td>0.664642</td>\n",
              "      <td>2.857326</td>\n",
              "      <td>2.150786</td>\n",
              "      <td>0</td>\n",
              "      <td>0</td>\n",
              "      <td>...</td>\n",
              "      <td>1</td>\n",
              "      <td>0</td>\n",
              "      <td>1</td>\n",
              "      <td>0</td>\n",
              "      <td>0</td>\n",
              "      <td>0</td>\n",
              "      <td>0</td>\n",
              "      <td>1</td>\n",
              "      <td>0</td>\n",
              "      <td>0</td>\n",
              "    </tr>\n",
              "    <tr>\n",
              "      <th>2432</th>\n",
              "      <td>1.193125</td>\n",
              "      <td>6.316725</td>\n",
              "      <td>0.544068</td>\n",
              "      <td>1.50515</td>\n",
              "      <td>3.01030</td>\n",
              "      <td>0.644439</td>\n",
              "      <td>3.161365</td>\n",
              "      <td>2.149872</td>\n",
              "      <td>0</td>\n",
              "      <td>0</td>\n",
              "      <td>...</td>\n",
              "      <td>1</td>\n",
              "      <td>0</td>\n",
              "      <td>1</td>\n",
              "      <td>1</td>\n",
              "      <td>0</td>\n",
              "      <td>0</td>\n",
              "      <td>0</td>\n",
              "      <td>0</td>\n",
              "      <td>0</td>\n",
              "      <td>0</td>\n",
              "    </tr>\n",
              "    <tr>\n",
              "      <th>2433</th>\n",
              "      <td>1.193125</td>\n",
              "      <td>6.316725</td>\n",
              "      <td>0.414973</td>\n",
              "      <td>1.20412</td>\n",
              "      <td>2.70927</td>\n",
              "      <td>0.739572</td>\n",
              "      <td>2.423066</td>\n",
              "      <td>2.149872</td>\n",
              "      <td>0</td>\n",
              "      <td>0</td>\n",
              "      <td>...</td>\n",
              "      <td>1</td>\n",
              "      <td>0</td>\n",
              "      <td>1</td>\n",
              "      <td>1</td>\n",
              "      <td>0</td>\n",
              "      <td>0</td>\n",
              "      <td>0</td>\n",
              "      <td>0</td>\n",
              "      <td>0</td>\n",
              "      <td>0</td>\n",
              "    </tr>\n",
              "    <tr>\n",
              "      <th>2434</th>\n",
              "      <td>1.146128</td>\n",
              "      <td>6.316725</td>\n",
              "      <td>0.380211</td>\n",
              "      <td>0.90309</td>\n",
              "      <td>2.40824</td>\n",
              "      <td>0.525045</td>\n",
              "      <td>2.518501</td>\n",
              "      <td>2.196868</td>\n",
              "      <td>0</td>\n",
              "      <td>0</td>\n",
              "      <td>...</td>\n",
              "      <td>1</td>\n",
              "      <td>0</td>\n",
              "      <td>1</td>\n",
              "      <td>1</td>\n",
              "      <td>0</td>\n",
              "      <td>0</td>\n",
              "      <td>0</td>\n",
              "      <td>0</td>\n",
              "      <td>0</td>\n",
              "      <td>0</td>\n",
              "    </tr>\n",
              "  </tbody>\n",
              "</table>\n",
              "<p>2435 rows × 45 columns</p>\n",
              "</div>"
            ],
            "text/plain": [
              "      screen_size  screen_resolution  cpu_speed      ram   memory    weight  \\\n",
              "0        1.193125           6.020812   0.477121  1.20412  3.01030  0.706718   \n",
              "1        1.204120           6.612360   0.672098  1.50515  3.01030  0.723456   \n",
              "2        1.193125           6.316725   0.681241  0.90309  2.70927  0.644439   \n",
              "3        1.146128           6.316725   0.278754  1.50515  3.31133  0.588832   \n",
              "4        1.146128           6.612360   0.698970  1.20412  3.01030  0.574031   \n",
              "...           ...                ...        ...      ...      ...       ...   \n",
              "2430     1.193125           6.316725   0.623249  0.90309  2.70927  0.885361   \n",
              "2431     1.204120           6.362482   0.255273  1.20412  2.70927  0.664642   \n",
              "2432     1.193125           6.316725   0.544068  1.50515  3.01030  0.644439   \n",
              "2433     1.193125           6.316725   0.414973  1.20412  2.70927  0.739572   \n",
              "2434     1.146128           6.316725   0.380211  0.90309  2.40824  0.525045   \n",
              "\n",
              "         price       ppi  brand_acer  brand_apple  ...  \\\n",
              "0     2.777427  2.001970           0            0  ...   \n",
              "1     3.155333  2.275725           1            0  ...   \n",
              "2     2.958516  2.149872           0            0  ...   \n",
              "3     2.690187  2.196868           0            0  ...   \n",
              "4     3.245510  2.333717           1            0  ...   \n",
              "...        ...       ...         ...          ...  ...   \n",
              "2430  3.106871  2.149872           1            0  ...   \n",
              "2431  2.857326  2.150786           0            0  ...   \n",
              "2432  3.161365  2.149872           0            0  ...   \n",
              "2433  2.423066  2.149872           0            0  ...   \n",
              "2434  2.518501  2.196868           0            0  ...   \n",
              "\n",
              "      gpu_description_integrated  OpSys_mac_os  OpSys_windows  color_black  \\\n",
              "0                              1             0              1            0   \n",
              "1                              0             0              1            0   \n",
              "2                              0             0              1            0   \n",
              "3                              1             0              1            1   \n",
              "4                              0             0              1            0   \n",
              "...                          ...           ...            ...          ...   \n",
              "2430                           0             0              1            0   \n",
              "2431                           1             0              1            0   \n",
              "2432                           1             0              1            1   \n",
              "2433                           1             0              1            1   \n",
              "2434                           1             0              1            1   \n",
              "\n",
              "      color_blue  color_gold  color_grey  color_other  color_silver  \\\n",
              "0              0           0           0            1             0   \n",
              "1              0           0           0            0             1   \n",
              "2              0           0           1            0             0   \n",
              "3              0           0           0            0             0   \n",
              "4              0           0           0            0             1   \n",
              "...          ...         ...         ...          ...           ...   \n",
              "2430           0           0           0            1             0   \n",
              "2431           0           0           0            1             0   \n",
              "2432           0           0           0            0             0   \n",
              "2433           0           0           0            0             0   \n",
              "2434           0           0           0            0             0   \n",
              "\n",
              "      color_white  \n",
              "0               0  \n",
              "1               0  \n",
              "2               0  \n",
              "3               0  \n",
              "4               0  \n",
              "...           ...  \n",
              "2430            0  \n",
              "2431            0  \n",
              "2432            0  \n",
              "2433            0  \n",
              "2434            0  \n",
              "\n",
              "[2435 rows x 45 columns]"
            ]
          },
          "execution_count": 16,
          "metadata": {},
          "output_type": "execute_result"
        }
      ],
      "source": [
        "import pandas as pd\n",
        "import numpy as np\n",
        "\n",
        "data = pd.read_csv(r'data_final.csv')\n",
        "data = data.drop(columns=[data.columns[0]])\n",
        "price_max = max(data.price)\n",
        "price_mean=data['price'].mean()\n",
        "price_std=data['price'].std()\n",
        "attribute_max = []\n",
        "for col in data.columns:\n",
        "    attribute_max.append(data[col].max())\n",
        "\n",
        "attribute_mean = []\n",
        "for col in data.columns:\n",
        "    attribute_mean.append(data[col].mean())\n",
        "\n",
        "attribute_std = []\n",
        "for col in data.columns:\n",
        "    attribute_std.append(data[col].std())\n",
        "\n",
        "df = data.sample(frac=1).reset_index()\n",
        "df = df.drop(columns=['index'])\n",
        "\n",
        "for col in df.columns[:8]:\n",
        "    df[col] = np.log10(df[col])\n",
        "df"
      ]
    },
    {
      "cell_type": "code",
      "execution_count": 17,
      "metadata": {
        "id": "Vs2XUZpuarlo"
      },
      "outputs": [
        {
          "data": {
            "text/html": [
              "<div>\n",
              "<style scoped>\n",
              "    .dataframe tbody tr th:only-of-type {\n",
              "        vertical-align: middle;\n",
              "    }\n",
              "\n",
              "    .dataframe tbody tr th {\n",
              "        vertical-align: top;\n",
              "    }\n",
              "\n",
              "    .dataframe thead th {\n",
              "        text-align: right;\n",
              "    }\n",
              "</style>\n",
              "<table border=\"1\" class=\"dataframe\">\n",
              "  <thead>\n",
              "    <tr style=\"text-align: right;\">\n",
              "      <th></th>\n",
              "      <th>screen_size</th>\n",
              "      <th>screen_resolution</th>\n",
              "      <th>cpu_speed</th>\n",
              "      <th>ram</th>\n",
              "      <th>memory</th>\n",
              "      <th>weight</th>\n",
              "      <th>price</th>\n",
              "      <th>ppi</th>\n",
              "      <th>brand_acer</th>\n",
              "      <th>brand_apple</th>\n",
              "      <th>...</th>\n",
              "      <th>gpu_description_integrated</th>\n",
              "      <th>OpSys_mac_os</th>\n",
              "      <th>OpSys_windows</th>\n",
              "      <th>color_black</th>\n",
              "      <th>color_blue</th>\n",
              "      <th>color_gold</th>\n",
              "      <th>color_grey</th>\n",
              "      <th>color_other</th>\n",
              "      <th>color_silver</th>\n",
              "      <th>color_white</th>\n",
              "    </tr>\n",
              "  </thead>\n",
              "  <tbody>\n",
              "    <tr>\n",
              "      <th>0</th>\n",
              "      <td>15.6</td>\n",
              "      <td>2073600</td>\n",
              "      <td>4.1</td>\n",
              "      <td>8.0</td>\n",
              "      <td>128.0</td>\n",
              "      <td>3.92</td>\n",
              "      <td>292.49</td>\n",
              "      <td>141.211998</td>\n",
              "      <td>1</td>\n",
              "      <td>0</td>\n",
              "      <td>...</td>\n",
              "      <td>1</td>\n",
              "      <td>0</td>\n",
              "      <td>1</td>\n",
              "      <td>0</td>\n",
              "      <td>0</td>\n",
              "      <td>0</td>\n",
              "      <td>0</td>\n",
              "      <td>0</td>\n",
              "      <td>1</td>\n",
              "      <td>0</td>\n",
              "    </tr>\n",
              "    <tr>\n",
              "      <th>1</th>\n",
              "      <td>15.6</td>\n",
              "      <td>2073600</td>\n",
              "      <td>4.3</td>\n",
              "      <td>8.0</td>\n",
              "      <td>1024.0</td>\n",
              "      <td>3.92</td>\n",
              "      <td>669.99</td>\n",
              "      <td>141.211998</td>\n",
              "      <td>1</td>\n",
              "      <td>0</td>\n",
              "      <td>...</td>\n",
              "      <td>1</td>\n",
              "      <td>0</td>\n",
              "      <td>1</td>\n",
              "      <td>0</td>\n",
              "      <td>1</td>\n",
              "      <td>0</td>\n",
              "      <td>0</td>\n",
              "      <td>0</td>\n",
              "      <td>0</td>\n",
              "      <td>0</td>\n",
              "    </tr>\n",
              "    <tr>\n",
              "      <th>2</th>\n",
              "      <td>15.6</td>\n",
              "      <td>2073600</td>\n",
              "      <td>3.0</td>\n",
              "      <td>32.0</td>\n",
              "      <td>2048.0</td>\n",
              "      <td>5.51</td>\n",
              "      <td>1869.00</td>\n",
              "      <td>141.211998</td>\n",
              "      <td>1</td>\n",
              "      <td>0</td>\n",
              "      <td>...</td>\n",
              "      <td>0</td>\n",
              "      <td>0</td>\n",
              "      <td>1</td>\n",
              "      <td>1</td>\n",
              "      <td>0</td>\n",
              "      <td>0</td>\n",
              "      <td>0</td>\n",
              "      <td>0</td>\n",
              "      <td>0</td>\n",
              "      <td>0</td>\n",
              "    </tr>\n",
              "    <tr>\n",
              "      <th>3</th>\n",
              "      <td>17.3</td>\n",
              "      <td>2073600</td>\n",
              "      <td>2.5</td>\n",
              "      <td>32.0</td>\n",
              "      <td>1024.0</td>\n",
              "      <td>9.98</td>\n",
              "      <td>1159.00</td>\n",
              "      <td>127.335675</td>\n",
              "      <td>1</td>\n",
              "      <td>0</td>\n",
              "      <td>...</td>\n",
              "      <td>0</td>\n",
              "      <td>0</td>\n",
              "      <td>1</td>\n",
              "      <td>1</td>\n",
              "      <td>0</td>\n",
              "      <td>0</td>\n",
              "      <td>0</td>\n",
              "      <td>0</td>\n",
              "      <td>0</td>\n",
              "      <td>0</td>\n",
              "    </tr>\n",
              "    <tr>\n",
              "      <th>4</th>\n",
              "      <td>14.0</td>\n",
              "      <td>2073600</td>\n",
              "      <td>1.6</td>\n",
              "      <td>4.0</td>\n",
              "      <td>32.0</td>\n",
              "      <td>3.42</td>\n",
              "      <td>293.00</td>\n",
              "      <td>157.350512</td>\n",
              "      <td>1</td>\n",
              "      <td>0</td>\n",
              "      <td>...</td>\n",
              "      <td>1</td>\n",
              "      <td>0</td>\n",
              "      <td>1</td>\n",
              "      <td>0</td>\n",
              "      <td>0</td>\n",
              "      <td>0</td>\n",
              "      <td>0</td>\n",
              "      <td>0</td>\n",
              "      <td>1</td>\n",
              "      <td>0</td>\n",
              "    </tr>\n",
              "    <tr>\n",
              "      <th>...</th>\n",
              "      <td>...</td>\n",
              "      <td>...</td>\n",
              "      <td>...</td>\n",
              "      <td>...</td>\n",
              "      <td>...</td>\n",
              "      <td>...</td>\n",
              "      <td>...</td>\n",
              "      <td>...</td>\n",
              "      <td>...</td>\n",
              "      <td>...</td>\n",
              "      <td>...</td>\n",
              "      <td>...</td>\n",
              "      <td>...</td>\n",
              "      <td>...</td>\n",
              "      <td>...</td>\n",
              "      <td>...</td>\n",
              "      <td>...</td>\n",
              "      <td>...</td>\n",
              "      <td>...</td>\n",
              "      <td>...</td>\n",
              "      <td>...</td>\n",
              "    </tr>\n",
              "    <tr>\n",
              "      <th>2430</th>\n",
              "      <td>13.0</td>\n",
              "      <td>4096000</td>\n",
              "      <td>3.1</td>\n",
              "      <td>8.0</td>\n",
              "      <td>512.0</td>\n",
              "      <td>3.02</td>\n",
              "      <td>744.40</td>\n",
              "      <td>232.221074</td>\n",
              "      <td>0</td>\n",
              "      <td>1</td>\n",
              "      <td>...</td>\n",
              "      <td>1</td>\n",
              "      <td>1</td>\n",
              "      <td>0</td>\n",
              "      <td>0</td>\n",
              "      <td>0</td>\n",
              "      <td>0</td>\n",
              "      <td>1</td>\n",
              "      <td>0</td>\n",
              "      <td>0</td>\n",
              "      <td>0</td>\n",
              "    </tr>\n",
              "    <tr>\n",
              "      <th>2431</th>\n",
              "      <td>15.0</td>\n",
              "      <td>4096000</td>\n",
              "      <td>3.5</td>\n",
              "      <td>8.0</td>\n",
              "      <td>512.0</td>\n",
              "      <td>6.35</td>\n",
              "      <td>1439.95</td>\n",
              "      <td>201.258264</td>\n",
              "      <td>0</td>\n",
              "      <td>1</td>\n",
              "      <td>...</td>\n",
              "      <td>1</td>\n",
              "      <td>1</td>\n",
              "      <td>0</td>\n",
              "      <td>0</td>\n",
              "      <td>0</td>\n",
              "      <td>0</td>\n",
              "      <td>0</td>\n",
              "      <td>0</td>\n",
              "      <td>1</td>\n",
              "      <td>0</td>\n",
              "    </tr>\n",
              "    <tr>\n",
              "      <th>2432</th>\n",
              "      <td>13.0</td>\n",
              "      <td>4096000</td>\n",
              "      <td>2.4</td>\n",
              "      <td>8.0</td>\n",
              "      <td>512.0</td>\n",
              "      <td>3.00</td>\n",
              "      <td>578.69</td>\n",
              "      <td>232.221074</td>\n",
              "      <td>0</td>\n",
              "      <td>1</td>\n",
              "      <td>...</td>\n",
              "      <td>1</td>\n",
              "      <td>1</td>\n",
              "      <td>0</td>\n",
              "      <td>0</td>\n",
              "      <td>0</td>\n",
              "      <td>0</td>\n",
              "      <td>1</td>\n",
              "      <td>0</td>\n",
              "      <td>0</td>\n",
              "      <td>0</td>\n",
              "    </tr>\n",
              "    <tr>\n",
              "      <th>2433</th>\n",
              "      <td>11.6</td>\n",
              "      <td>1049088</td>\n",
              "      <td>2.7</td>\n",
              "      <td>4.0</td>\n",
              "      <td>128.0</td>\n",
              "      <td>1.10</td>\n",
              "      <td>209.99</td>\n",
              "      <td>135.094211</td>\n",
              "      <td>0</td>\n",
              "      <td>1</td>\n",
              "      <td>...</td>\n",
              "      <td>1</td>\n",
              "      <td>1</td>\n",
              "      <td>0</td>\n",
              "      <td>0</td>\n",
              "      <td>0</td>\n",
              "      <td>0</td>\n",
              "      <td>0</td>\n",
              "      <td>0</td>\n",
              "      <td>1</td>\n",
              "      <td>0</td>\n",
              "    </tr>\n",
              "    <tr>\n",
              "      <th>2434</th>\n",
              "      <td>13.3</td>\n",
              "      <td>1049088</td>\n",
              "      <td>1.8</td>\n",
              "      <td>8.0</td>\n",
              "      <td>128.0</td>\n",
              "      <td>3.00</td>\n",
              "      <td>285.00</td>\n",
              "      <td>117.826530</td>\n",
              "      <td>0</td>\n",
              "      <td>1</td>\n",
              "      <td>...</td>\n",
              "      <td>1</td>\n",
              "      <td>1</td>\n",
              "      <td>0</td>\n",
              "      <td>0</td>\n",
              "      <td>0</td>\n",
              "      <td>0</td>\n",
              "      <td>0</td>\n",
              "      <td>0</td>\n",
              "      <td>1</td>\n",
              "      <td>0</td>\n",
              "    </tr>\n",
              "  </tbody>\n",
              "</table>\n",
              "<p>2435 rows × 45 columns</p>\n",
              "</div>"
            ],
            "text/plain": [
              "      screen_size  screen_resolution  cpu_speed   ram  memory  weight  \\\n",
              "0            15.6            2073600        4.1   8.0   128.0    3.92   \n",
              "1            15.6            2073600        4.3   8.0  1024.0    3.92   \n",
              "2            15.6            2073600        3.0  32.0  2048.0    5.51   \n",
              "3            17.3            2073600        2.5  32.0  1024.0    9.98   \n",
              "4            14.0            2073600        1.6   4.0    32.0    3.42   \n",
              "...           ...                ...        ...   ...     ...     ...   \n",
              "2430         13.0            4096000        3.1   8.0   512.0    3.02   \n",
              "2431         15.0            4096000        3.5   8.0   512.0    6.35   \n",
              "2432         13.0            4096000        2.4   8.0   512.0    3.00   \n",
              "2433         11.6            1049088        2.7   4.0   128.0    1.10   \n",
              "2434         13.3            1049088        1.8   8.0   128.0    3.00   \n",
              "\n",
              "        price         ppi  brand_acer  brand_apple  ...  \\\n",
              "0      292.49  141.211998           1            0  ...   \n",
              "1      669.99  141.211998           1            0  ...   \n",
              "2     1869.00  141.211998           1            0  ...   \n",
              "3     1159.00  127.335675           1            0  ...   \n",
              "4      293.00  157.350512           1            0  ...   \n",
              "...       ...         ...         ...          ...  ...   \n",
              "2430   744.40  232.221074           0            1  ...   \n",
              "2431  1439.95  201.258264           0            1  ...   \n",
              "2432   578.69  232.221074           0            1  ...   \n",
              "2433   209.99  135.094211           0            1  ...   \n",
              "2434   285.00  117.826530           0            1  ...   \n",
              "\n",
              "      gpu_description_integrated  OpSys_mac_os  OpSys_windows  color_black  \\\n",
              "0                              1             0              1            0   \n",
              "1                              1             0              1            0   \n",
              "2                              0             0              1            1   \n",
              "3                              0             0              1            1   \n",
              "4                              1             0              1            0   \n",
              "...                          ...           ...            ...          ...   \n",
              "2430                           1             1              0            0   \n",
              "2431                           1             1              0            0   \n",
              "2432                           1             1              0            0   \n",
              "2433                           1             1              0            0   \n",
              "2434                           1             1              0            0   \n",
              "\n",
              "      color_blue  color_gold  color_grey  color_other  color_silver  \\\n",
              "0              0           0           0            0             1   \n",
              "1              1           0           0            0             0   \n",
              "2              0           0           0            0             0   \n",
              "3              0           0           0            0             0   \n",
              "4              0           0           0            0             1   \n",
              "...          ...         ...         ...          ...           ...   \n",
              "2430           0           0           1            0             0   \n",
              "2431           0           0           0            0             1   \n",
              "2432           0           0           1            0             0   \n",
              "2433           0           0           0            0             1   \n",
              "2434           0           0           0            0             1   \n",
              "\n",
              "      color_white  \n",
              "0               0  \n",
              "1               0  \n",
              "2               0  \n",
              "3               0  \n",
              "4               0  \n",
              "...           ...  \n",
              "2430            0  \n",
              "2431            0  \n",
              "2432            0  \n",
              "2433            0  \n",
              "2434            0  \n",
              "\n",
              "[2435 rows x 45 columns]"
            ]
          },
          "execution_count": 17,
          "metadata": {},
          "output_type": "execute_result"
        }
      ],
      "source": [
        "data"
      ]
    },
    {
      "cell_type": "code",
      "execution_count": 18,
      "metadata": {},
      "outputs": [
        {
          "data": {
            "text/plain": [
              "4955.95"
            ]
          },
          "execution_count": 18,
          "metadata": {},
          "output_type": "execute_result"
        }
      ],
      "source": [
        "price_max"
      ]
    },
    {
      "cell_type": "code",
      "execution_count": 19,
      "metadata": {},
      "outputs": [
        {
          "data": {
            "text/plain": [
              "[18.0,\n",
              " 9216000,\n",
              " 1248.0,\n",
              " 128.0,\n",
              " 4096.0,\n",
              " 29.0,\n",
              " 4955.95,\n",
              " 400.52857637859967,\n",
              " 1,\n",
              " 1,\n",
              " 1,\n",
              " 1,\n",
              " 1,\n",
              " 1,\n",
              " 1,\n",
              " 1,\n",
              " 1,\n",
              " 1,\n",
              " 1,\n",
              " 1,\n",
              " 1,\n",
              " 1,\n",
              " 1,\n",
              " 1,\n",
              " 1,\n",
              " 1,\n",
              " 1,\n",
              " 1,\n",
              " 1,\n",
              " 1,\n",
              " 1,\n",
              " 1,\n",
              " 1,\n",
              " 1,\n",
              " 1,\n",
              " 1,\n",
              " 1,\n",
              " 1,\n",
              " 1,\n",
              " 1,\n",
              " 1,\n",
              " 1,\n",
              " 1,\n",
              " 1,\n",
              " 1]"
            ]
          },
          "execution_count": 19,
          "metadata": {},
          "output_type": "execute_result"
        }
      ],
      "source": [
        "attribute_max"
      ]
    },
    {
      "cell_type": "code",
      "execution_count": 20,
      "metadata": {
        "colab": {
          "base_uri": "https://localhost:8080/",
          "height": 430
        },
        "id": "968pFJSKm0Gj",
        "outputId": "37df6a46-a8c4-4589-a87e-cd3efc50bcc3"
      },
      "outputs": [
        {
          "data": {
            "text/plain": [
              "<Axes: xlabel='price', ylabel='Count'>"
            ]
          },
          "execution_count": 20,
          "metadata": {},
          "output_type": "execute_result"
        },
        {
          "data": {
            "image/png": "[encoded data removed]",
            "text/plain": [
              "<Figure size 640x480 with 1 Axes>"
            ]
          },
          "metadata": {},
          "output_type": "display_data"
        }
      ],
      "source": [
        "import matplotlib.pyplot as plt\n",
        "import seaborn as sns\n",
        "sns.histplot(df.price)"
      ]
    },
    {
      "cell_type": "markdown",
      "metadata": {
        "id": "gRgVNcpnm0Gk"
      },
      "source": [
        "# Train Test Split"
      ]
    },
    {
      "cell_type": "code",
      "execution_count": 21,
      "metadata": {
        "id": "YjUTUDP1m0Gl"
      },
      "outputs": [],
      "source": [
        "pred_col = ['price']"
      ]
    },
    {
      "cell_type": "code",
      "execution_count": 22,
      "metadata": {
        "colab": {
          "base_uri": "https://localhost:8080/"
        },
        "id": "tdqRh3TFm0Gl",
        "outputId": "4edb8279-31ea-4288-d3a7-69320f9d9492"
      },
      "outputs": [
        {
          "data": {
            "text/plain": [
              "['screen_size',\n",
              " 'screen_resolution',\n",
              " 'cpu_speed',\n",
              " 'ram',\n",
              " 'memory',\n",
              " 'weight',\n",
              " 'ppi',\n",
              " 'brand_acer',\n",
              " 'brand_apple',\n",
              " 'brand_asus',\n",
              " 'brand_dell',\n",
              " 'brand_hp',\n",
              " 'brand_lenovo',\n",
              " 'cpu_amd_3',\n",
              " 'cpu_amd_5',\n",
              " 'cpu_amd_7',\n",
              " 'cpu_amd_9',\n",
              " 'cpu_amd_athlon',\n",
              " 'cpu_amd_r_series',\n",
              " 'cpu_apple',\n",
              " 'cpu_intel_celeron',\n",
              " 'cpu_intel_i3',\n",
              " 'cpu_intel_i5',\n",
              " 'cpu_intel_i7',\n",
              " 'cpu_intel_i9',\n",
              " 'cpu_intel_pentium',\n",
              " 'cpu_mediatek_mt8183',\n",
              " 'cpu_other',\n",
              " 'gpu_amd',\n",
              " 'gpu_apple',\n",
              " 'gpu_intel',\n",
              " 'gpu_nvidia',\n",
              " 'gpu_other',\n",
              " 'gpu_description_dedicated',\n",
              " 'gpu_description_integrated',\n",
              " 'OpSys_mac_os',\n",
              " 'OpSys_windows',\n",
              " 'color_black',\n",
              " 'color_blue',\n",
              " 'color_gold',\n",
              " 'color_grey',\n",
              " 'color_other',\n",
              " 'color_silver',\n",
              " 'color_white']"
            ]
          },
          "execution_count": 22,
          "metadata": {},
          "output_type": "execute_result"
        }
      ],
      "source": [
        "feature_col = [] # Columns feature for training\n",
        "for col in df.columns:\n",
        "    if not col in pred_col:\n",
        "        feature_col.append(col)\n",
        "feature_col"
      ]
    },
    {
      "cell_type": "code",
      "execution_count": 23,
      "metadata": {
        "colab": {
          "base_uri": "https://localhost:8080/"
        },
        "id": "iIjLwb-Km0Gm",
        "outputId": "f1e51eef-eaf1-4f71-8622-ddb1f9040e44"
      },
      "outputs": [
        {
          "data": {
            "text/plain": [
              "((1948, 45), (487, 45))"
            ]
          },
          "execution_count": 23,
          "metadata": {},
          "output_type": "execute_result"
        }
      ],
      "source": [
        "train_test_split = int(len(df)*0.8)\n",
        "df_train = df[:train_test_split]\n",
        "df_test = df[train_test_split:]\n",
        "df_train.shape, df_test.shape"
      ]
    },
    {
      "cell_type": "code",
      "execution_count": 24,
      "metadata": {
        "colab": {
          "base_uri": "https://localhost:8080/"
        },
        "id": "SChIBm8sm0Gn",
        "outputId": "2cd2dd00-143e-479c-a1fc-dccedb8e7c37"
      },
      "outputs": [
        {
          "data": {
            "text/plain": [
              "((1948, 44), (1948, 1))"
            ]
          },
          "execution_count": 24,
          "metadata": {},
          "output_type": "execute_result"
        }
      ],
      "source": [
        "y_train = df_train[pred_col].to_numpy()\n",
        "X_train = df_train[feature_col].to_numpy()\n",
        "X_train.shape, y_train.shape"
      ]
    },
    {
      "cell_type": "code",
      "execution_count": 25,
      "metadata": {
        "colab": {
          "base_uri": "https://localhost:8080/"
        },
        "id": "Lv9vdcUHm0Gn",
        "outputId": "41707707-6d1a-4089-e0db-25c8236a9994"
      },
      "outputs": [
        {
          "data": {
            "text/plain": [
              "((487, 44), (487, 1))"
            ]
          },
          "execution_count": 25,
          "metadata": {},
          "output_type": "execute_result"
        }
      ],
      "source": [
        "y_test = df_test[pred_col].to_numpy()\n",
        "X_test = df_test[feature_col].to_numpy()\n",
        "X_test.shape, y_test.shape"
      ]
    },
    {
      "cell_type": "markdown",
      "metadata": {
        "id": "WwcSgPErm0Gn"
      },
      "source": [
        "# Tuning Cell"
      ]
    },
    {
      "cell_type": "code",
      "execution_count": 26,
      "metadata": {
        "id": "VCiOAyjfm0Gn"
      },
      "outputs": [],
      "source": [
        "K_fold = 5 # K fold for cross validation, K fold = Train set \n",
        "lamda = 1 # Ridge parameter\n",
        "neighbors = 1 # Num neighbors of KNN\n",
        "rf_depth = 25 # Random Forest depth\n",
        "dt_depth = 25 # Decision Tree depth\n",
        "hidden_layer_size = 1800 # MLP hidden layer size"
      ]
    },
    {
      "cell_type": "markdown",
      "metadata": {
        "id": "CGG-_GhIm0Go"
      },
      "source": [
        "# Ridge without cross valid"
      ]
    },
    {
      "cell_type": "code",
      "execution_count": 27,
      "metadata": {
        "colab": {
          "base_uri": "https://localhost:8080/"
        },
        "id": "URPqN-qZm0Go",
        "outputId": "16d96c0b-6e6d-4345-ac9f-314d22a86d82"
      },
      "outputs": [
        {
          "data": {
            "text/plain": [
              "0.8101613551961117"
            ]
          },
          "execution_count": 27,
          "metadata": {},
          "output_type": "execute_result"
        }
      ],
      "source": [
        "from sklearn.linear_model import Ridge\n",
        "ridge = Ridge(alpha=lamda)\n",
        "ridge.fit(X_train, y_train)\n",
        "ridge.score(X_train, y_train)"
      ]
    },
    {
      "cell_type": "code",
      "execution_count": 28,
      "metadata": {
        "colab": {
          "base_uri": "https://localhost:8080/"
        },
        "id": "h7bYvXc3m0Go",
        "outputId": "76ffb797-7304-46d7-a255-7231ac741cab"
      },
      "outputs": [
        {
          "name": "stdout",
          "output_type": "stream",
          "text": [
            "R2 Score:  0.8432901413917848\n",
            "Mean Absolute Error (MAE):  0.09192723483072075\n",
            "Mean Squared Error (MSE):  0.015770551240017777\n",
            "Root Mean Squared Error (RMSE):  0.12558085538814337\n"
          ]
        }
      ],
      "source": [
        "from sklearn.metrics import mean_squared_error, r2_score, mean_absolute_error\n",
        "y_pred = ridge.predict(X_test)\n",
        "print('R2 Score: ', r2_score(y_test,y_pred))\n",
        "print('Mean Absolute Error (MAE): ', mean_absolute_error(y_test,y_pred))\n",
        "print(f'Mean Squared Error (MSE): ', mean_squared_error(y_test,y_pred))\n",
        "print( f'Root Mean Squared Error (RMSE): ', mean_squared_error(y_test,y_pred, squared=False))"
      ]
    },
    {
      "cell_type": "markdown",
      "metadata": {
        "id": "5-mwVDBOm0Go"
      },
      "source": [
        "# KNN"
      ]
    },
    {
      "cell_type": "code",
      "execution_count": 30,
      "metadata": {
        "colab": {
          "base_uri": "https://localhost:8080/"
        },
        "id": "5eAy5_Zbm0Go",
        "outputId": "f912fa02-8673-470d-edf8-2f7c20e2e747"
      },
      "outputs": [
        {
          "data": {
            "text/plain": [
              "0.9981146774131725"
            ]
          },
          "execution_count": 30,
          "metadata": {},
          "output_type": "execute_result"
        }
      ],
      "source": [
        "from sklearn.neighbors import KNeighborsRegressor\n",
        "knn = KNeighborsRegressor(n_neighbors=neighbors)\n",
        "knn.fit(X_train, y_train)\n",
        "knn.score(X_train, y_train)"
      ]
    },
    {
      "cell_type": "code",
      "execution_count": 31,
      "metadata": {
        "colab": {
          "base_uri": "https://localhost:8080/"
        },
        "id": "V053ScI4m0Gp",
        "outputId": "d3767dc9-a99e-428b-8012-1d5704929f35"
      },
      "outputs": [
        {
          "name": "stdout",
          "output_type": "stream",
          "text": [
            "R2 Score:  0.7671123441185929\n",
            "Mean Absolute Error (MAE):  0.10084082535391026\n",
            "Mean Squared Error (MSE):  0.023436730419287226\n",
            "Root Mean Squared Error (RMSE):  0.1530905954632329\n"
          ]
        }
      ],
      "source": [
        "from sklearn.metrics import mean_squared_error, r2_score, mean_absolute_error\n",
        "y_pred = knn.predict(X_test)\n",
        "print('R2 Score: ', r2_score(y_test,y_pred))\n",
        "print('Mean Absolute Error (MAE): ', mean_absolute_error(y_test,y_pred))\n",
        "print(f'Mean Squared Error (MSE): ', mean_squared_error(y_test,y_pred))\n",
        "print( f'Root Mean Squared Error (RMSE): ', mean_squared_error(y_test,y_pred, squared=False))"
      ]
    },
    {
      "cell_type": "markdown",
      "metadata": {
        "id": "kop9z623m0Gp"
      },
      "source": [
        "# Decision Tree"
      ]
    },
    {
      "cell_type": "code",
      "execution_count": 33,
      "metadata": {
        "colab": {
          "base_uri": "https://localhost:8080/",
          "height": 74
        },
        "id": "lfxo07ZXm0Gp",
        "outputId": "6e8f3a57-b77f-4ed9-8c83-7f6f73595ce0"
      },
      "outputs": [
        {
          "data": {
            "text/plain": [
              "0.9990526949769849"
            ]
          },
          "execution_count": 33,
          "metadata": {},
          "output_type": "execute_result"
        }
      ],
      "source": [
        "from sklearn.tree import DecisionTreeRegressor\n",
        "dtree = DecisionTreeRegressor(max_depth=dt_depth)\n",
        "dtree.fit(X_train, y_train)\n",
        "dtree.score(X_train, y_train)"
      ]
    },
    {
      "cell_type": "code",
      "execution_count": 34,
      "metadata": {
        "colab": {
          "base_uri": "https://localhost:8080/"
        },
        "id": "IH8zqQwTm0Gp",
        "outputId": "dbbaba08-027c-419c-a884-43427eff9a49"
      },
      "outputs": [
        {
          "name": "stdout",
          "output_type": "stream",
          "text": [
            "R2 Score:  0.7624806401092051\n",
            "Mean Absolute Error (MAE):  0.09962649138443874\n",
            "Mean Squared Error (MSE):  0.023902843566586156\n",
            "Root Mean Squared Error (RMSE):  0.1546054448154597\n"
          ]
        }
      ],
      "source": [
        "from sklearn.metrics import mean_squared_error, r2_score, mean_absolute_error\n",
        "y_pred = dtree.predict(X_test)\n",
        "print('R2 Score: ', r2_score(y_test,y_pred))\n",
        "print('Mean Absolute Error (MAE): ', mean_absolute_error(y_test,y_pred))\n",
        "print(f'Mean Squared Error (MSE): ', mean_squared_error(y_test,y_pred))\n",
        "print( f'Root Mean Squared Error (RMSE): ', mean_squared_error(y_test,y_pred, squared=False))"
      ]
    },
    {
      "cell_type": "markdown",
      "metadata": {
        "id": "ITb2VOt9m0Gq"
      },
      "source": [
        "# Random Forest"
      ]
    },
    {
      "cell_type": "code",
      "execution_count": 36,
      "metadata": {
        "colab": {
          "base_uri": "https://localhost:8080/",
          "height": 129
        },
        "id": "gdCrKd1bm0Gq",
        "outputId": "d3998f16-9c19-406f-9096-df61cd23dafc"
      },
      "outputs": [
        {
          "name": "stderr",
          "output_type": "stream",
          "text": [
            "/var/folders/9m/q_st48_96nxbrmf463nr7q580000gn/T/ipykernel_82521/3197691622.py:4: DataConversionWarning: A column-vector y was passed when a 1d array was expected. Please change the shape of y to (n_samples,), for example using ravel().\n",
            "  rf.fit(X_train, y_train)\n"
          ]
        },
        {
          "data": {
            "text/plain": [
              "0.9778801719247583"
            ]
          },
          "execution_count": 36,
          "metadata": {},
          "output_type": "execute_result"
        }
      ],
      "source": [
        "from sklearn.ensemble import RandomForestRegressor\n",
        "\n",
        "rf = RandomForestRegressor(max_depth=rf_depth)\n",
        "rf.fit(X_train, y_train)\n",
        "rf.score(X_train, y_train)"
      ]
    },
    {
      "cell_type": "code",
      "execution_count": 37,
      "metadata": {
        "colab": {
          "base_uri": "https://localhost:8080/"
        },
        "id": "Icyq-a53m0Gq",
        "outputId": "f813db38-309e-41b5-9d67-c49574814450"
      },
      "outputs": [
        {
          "name": "stdout",
          "output_type": "stream",
          "text": [
            "R2 Score:  0.8690430794661068\n",
            "Mean Absolute Error (MAE):  0.07946071465993745\n",
            "Mean Squared Error (MSE):  0.013178895341090116\n",
            "Root Mean Squared Error (RMSE):  0.11479936995075415\n"
          ]
        }
      ],
      "source": [
        "from sklearn.metrics import mean_squared_error, r2_score, mean_absolute_error\n",
        "y_pred = rf.predict(X_test)\n",
        "print('R2 Score: ', r2_score(y_test,y_pred))\n",
        "print('Mean Absolute Error (MAE): ', mean_absolute_error(y_test,y_pred))\n",
        "print(f'Mean Squared Error (MSE): ', mean_squared_error(y_test,y_pred))\n",
        "print( f'Root Mean Squared Error (RMSE): ', mean_squared_error(y_test,y_pred, squared=False))"
      ]
    },
    {
      "cell_type": "markdown",
      "metadata": {
        "id": "vScLAEOzm0Gq"
      },
      "source": [
        "# MLP"
      ]
    },
    {
      "cell_type": "code",
      "execution_count": 39,
      "metadata": {
        "colab": {
          "base_uri": "https://localhost:8080/"
        },
        "id": "D1pn7Cudm0Gq",
        "outputId": "6838214c-ffe6-4e4f-ed53-0bfa3a64a8d5"
      },
      "outputs": [
        {
          "name": "stderr",
          "output_type": "stream",
          "text": [
            "/Users/duckthefat/Library/Python/3.9/lib/python/site-packages/sklearn/neural_network/_multilayer_perceptron.py:1623: DataConversionWarning: A column-vector y was passed when a 1d array was expected. Please change the shape of y to (n_samples, ), for example using ravel().\n",
            "  y = column_or_1d(y, warn=True)\n"
          ]
        },
        {
          "data": {
            "text/plain": [
              "0.8706505484259128"
            ]
          },
          "execution_count": 39,
          "metadata": {},
          "output_type": "execute_result"
        }
      ],
      "source": [
        "from sklearn.neural_network import MLPRegressor\n",
        "import joblib\n",
        "# file = 'mlp.joblib'\n",
        "file = ''\n",
        "if file != '':\n",
        "    mlp = joblib.load(file)\n",
        "else:\n",
        "    mlp = MLPRegressor(hidden_layer_sizes=(hidden_layer_size, hidden_layer_size), activation='relu', max_iter=500, random_state=42, learning_rate='adaptive')\n",
        "    mlp.fit(X_train, y_train)\n",
        "mlp.score(X_train, y_train)"
      ]
    },
    {
      "cell_type": "code",
      "execution_count": 40,
      "metadata": {
        "colab": {
          "base_uri": "https://localhost:8080/"
        },
        "id": "qIwmIv0Sm0Gr",
        "outputId": "5e31f912-2dba-41d0-ccb6-e2287703aeb2"
      },
      "outputs": [
        {
          "name": "stdout",
          "output_type": "stream",
          "text": [
            "R2 Score:  0.8333127409916226\n",
            "Mean Absolute Error (MAE):  0.09420468694488426\n",
            "Mean Squared Error (MSE):  0.016774630406768323\n",
            "Root Mean Squared Error (RMSE):  0.12951691166318136\n"
          ]
        }
      ],
      "source": [
        "from sklearn.metrics import mean_squared_error, r2_score, mean_absolute_error\n",
        "y_pred = mlp.predict(X_test)\n",
        "print('R2 Score: ', r2_score(y_test,y_pred))\n",
        "print('Mean Absolute Error (MAE): ', mean_absolute_error(y_test,y_pred))\n",
        "print(f'Mean Squared Error (MSE): ', mean_squared_error(y_test,y_pred))\n",
        "print( f'Root Mean Squared Error (RMSE): ', mean_squared_error(y_test,y_pred, squared=False))"
      ]
    },
    {
      "cell_type": "code",
      "execution_count": 41,
      "metadata": {},
      "outputs": [
        {
          "data": {
            "text/plain": [
              "['mlp.joblib']"
            ]
          },
          "execution_count": 41,
          "metadata": {},
          "output_type": "execute_result"
        }
      ],
      "source": [
        "import joblib\n",
        "joblib.dump(mlp, 'mlp.joblib')"
      ]
    },
    {
      "cell_type": "markdown",
      "metadata": {},
      "source": [
        "# Stack Ensemble\n"
      ]
    },
    {
      "cell_type": "code",
      "execution_count": 45,
      "metadata": {},
      "outputs": [
        {
          "data": {
            "text/plain": [
              "0.9615516331942974"
            ]
          },
          "execution_count": 45,
          "metadata": {},
          "output_type": "execute_result"
        }
      ],
      "source": [
        "from sklearn.ensemble import StackingRegressor\n",
        "from sklearn.linear_model import LinearRegression\n",
        "\n",
        "# file = 'ensemble.joblib'\n",
        "file = ''\n",
        "if file != '':\n",
        "    ensemble_model = joblib.load(file)\n",
        "else:\n",
        "    ensemble_model = StackingRegressor(\n",
        "        estimators=[('ridge', ridge), ('knn', knn), ('dtree', dtree), ('rf', rf), ('mlp', mlp)]\n",
        "    )\n",
        "\n",
        "    ensemble_model.fit(X_train, y_train)\n",
        "\n",
        "ensemble_model.score(X_train, y_train)"
      ]
    },
    {
      "cell_type": "code",
      "execution_count": 46,
      "metadata": {},
      "outputs": [
        {
          "name": "stdout",
          "output_type": "stream",
          "text": [
            "R2 Score:  0.8826114980074496\n",
            "Mean Absolute Error (MAE):  0.07517749159995836\n",
            "Mean Squared Error (MSE):  0.011813432812103846\n",
            "Root Mean Squared Error (RMSE):  0.10868961685507887\n"
          ]
        }
      ],
      "source": [
        "y_pred = ensemble_model.predict(X_test)\n",
        "print('R2 Score: ', r2_score(y_test,y_pred))\n",
        "print('Mean Absolute Error (MAE): ', mean_absolute_error(y_test,y_pred))\n",
        "print(f'Mean Squared Error (MSE): ', mean_squared_error(y_test,y_pred))\n",
        "print( f'Root Mean Squared Error (RMSE): ', mean_squared_error(y_test,y_pred, squared=False))"
      ]
    },
    {
      "cell_type": "code",
      "execution_count": 47,
      "metadata": {},
      "outputs": [
        {
          "data": {
            "text/plain": [
              "['ensemble.joblib']"
            ]
          },
          "execution_count": 47,
          "metadata": {},
          "output_type": "execute_result"
        }
      ],
      "source": [
        "import joblib\n",
        "joblib.dump(ensemble_model, 'ensemble.joblib')"
      ]
    },
    {
      "cell_type": "markdown",
      "metadata": {
        "id": "p7480820m0Gv"
      },
      "source": [
        "# Gradio"
      ]
    },
    {
      "cell_type": "code",
      "execution_count": 48,
      "metadata": {
        "id": "rc8rMZ--m0Gw"
      },
      "outputs": [],
      "source": [
        "y = df[pred_col].to_numpy()\n",
        "X = df[feature_col].to_numpy()"
      ]
    },
    {
      "cell_type": "code",
      "execution_count": 49,
      "metadata": {
        "id": "6Bk_1RUzAaoQ"
      },
      "outputs": [],
      "source": [
        "def build_vector(brand,\n",
        "           screen_size,\n",
        "           screen_resolution,\n",
        "            cpu,\n",
        "            gpu,\n",
        "            gpu_description,\n",
        "            color,\n",
        "            operating_system,\n",
        "            cpu_speed,\n",
        "            ram,\n",
        "            memory,\n",
        "            weight):\n",
        "\n",
        "  vector = np.zeros((44,))\n",
        "\n",
        "  #brand change:\n",
        "  brand_list = [\"Acer\",\"Apple\",\"Asus\",\"Dell\",\"HP\",\"Lenovo\"]\n",
        "  brand_onehot = [1 if brand == i else 0 for i in brand_list]\n",
        "\n",
        "  vector[7:13] = brand_onehot\n",
        "\n",
        "  # screen_size:\n",
        "  vector[0] = screen_size\n",
        "\n",
        "  #screen_resolution:\n",
        "  temp= screen_resolution.split('x')\n",
        "  screen_w=int(temp[0])\n",
        "  screen_h=int(temp[1])\n",
        "  screen_resolution =screen_h*screen_w\n",
        "  ppi=((screen_w**2+screen_h**2)**0.5)/screen_size\n",
        "\n",
        "  vector[1] = screen_resolution\n",
        "  vector[6] = ppi\n",
        "\n",
        "  #cpu_speed:\n",
        "  vector[2] = cpu_speed\n",
        "\n",
        "  #ram:\n",
        "  vector[3] = ram\n",
        "\n",
        "  #memory:\n",
        "  vector[4] = memory\n",
        "\n",
        "  #weight:\n",
        "  vector[5] = weight\n",
        "\n",
        "  #cpu:\n",
        "  cpu_list = ['amd_3',\n",
        "            'amd_5',\n",
        "            'amd_7',\n",
        "            'amd_9',\n",
        "            'amd_athlon',\n",
        "            'amd_r_series',\n",
        "            'apple',\n",
        "            'intel_celeron',\n",
        "            'intel_i3',\n",
        "            'intel_i5',\n",
        "            'intel_i7',\n",
        "            'intel_i9',\n",
        "            'intel_pentium',\n",
        "            'mediatek_mt8183',\n",
        "            'other']\n",
        "\n",
        "  cpu_onehot = [1 if cpu == i else 0 for i in cpu_list]\n",
        "\n",
        "  vector[13:28] = cpu_onehot\n",
        "\n",
        "\n",
        "  #gpu:\n",
        "  gpu_list = ['amd',\n",
        "            'apple',\n",
        "            'intel',\n",
        "            'nvidia',\n",
        "            'other']\n",
        "\n",
        "  gpu_onehot = [1 if gpu == i else 0 for i in gpu_list]\n",
        "  vector[28:33] = gpu_onehot\n",
        "\n",
        "  # gpu_description\n",
        "  gpu_description_list = [\"Dedicated\",\"Intergrated\"]\n",
        "  gpu_description_onehot = [1 if gpu_description == i else 0 for i in gpu_description_list]\n",
        "  vector[33:35] = gpu_description_onehot\n",
        "\n",
        "  # operatings system:\n",
        "  os_list = [\"MacOS\",\"Windows\"]\n",
        "  os_onehot = [1 if operating_system == i else 0 for i in os_list]\n",
        "  vector[35:37] = os_onehot\n",
        "\n",
        "\n",
        "  #color:\n",
        "  color_list = ['black',\n",
        "                'blue',\n",
        "                'gold',\n",
        "                'grey',\n",
        "                'other',\n",
        "                'silver',\n",
        "                'white']\n",
        "\n",
        "  color_onehot = [1 if color == i else 0 for i in color_list]\n",
        "  vector[37:] = color_onehot\n",
        "\n",
        "  return vector\n"
      ]
    },
    {
      "cell_type": "code",
      "execution_count": 50,
      "metadata": {},
      "outputs": [],
      "source": [
        "vector=build_vector('Apple',13.0,'2560x1600','intel_i5','intel','Integrated',\n",
        "                    'grey','MacOS', 1.6, 8.0, 256.0, 2.92)\n",
        "\n",
        "for i in range(7):\n",
        "    vector[i] = np.log10(vector[i])\n",
        "\n",
        "vector = vector.reshape(1,44)"
      ]
    },
    {
      "cell_type": "code",
      "execution_count": 51,
      "metadata": {},
      "outputs": [
        {
          "name": "stdout",
          "output_type": "stream",
          "text": [
            "Ridge 429.21\n",
            "Knn 530.34\n",
            "Dtree 549.99\n",
            "RF 571.33\n",
            "MLP 516.35\n",
            "Enssemble 535.85\n"
          ]
        }
      ],
      "source": [
        "def pred(x, model):\n",
        "    # return float(model.predict(x))**2\n",
        "    return 10**float(model.predict(x))\n",
        "\n",
        "pred_ridge = pred(vector, ridge)\n",
        "pred_knn = pred(vector, knn)\n",
        "pred_dt = pred(vector, dtree)\n",
        "pred_rf = pred(vector, rf)\n",
        "pred_mlp = pred(vector, mlp)\n",
        "pred_enssemble = pred(vector, ensemble_model)\n",
        "\n",
        "\n",
        "print('Ridge', round(pred_ridge, 2))\n",
        "print('Knn', round(pred_knn, 2))\n",
        "print('Dtree', round(pred_dt, 2))\n",
        "print('RF', round(pred_rf, 2))\n",
        "print('MLP', round(pred_mlp, 2))\n",
        "print('Enssemble', round(pred_enssemble, 2))\n",
        "# print('Average', (pred_ridge+pred_knn+pred_dt+pred_rf+pred_mlp)/5)"
      ]
    },
    {
      "cell_type": "code",
      "execution_count": 52,
      "metadata": {
        "colab": {
          "base_uri": "https://localhost:8080/",
          "height": 530
        },
        "id": "Xb7PpYffm0G1",
        "outputId": "97d95237-69a5-4c39-d519-d53491d4afe0"
      },
      "outputs": [
        {
          "name": "stdout",
          "output_type": "stream",
          "text": [
            "Running on local URL:  http://127.0.0.1:7860\n",
            "\n",
            "To create a public link, set `share=True` in `launch()`.\n"
          ]
        },
        {
          "data": {
            "text/html": [
              "<div><iframe src=\"http://127.0.0.1:7860/\" width=\"100%\" height=\"500\" allow=\"autoplay; camera; microphone; clipboard-read; clipboard-write;\" frameborder=\"0\" allowfullscreen></iframe></div>"
            ],
            "text/plain": [
              "<IPython.core.display.HTML object>"
            ]
          },
          "metadata": {},
          "output_type": "display_data"
        },
        {
          "data": {
            "text/plain": []
          },
          "execution_count": 52,
          "metadata": {},
          "output_type": "execute_result"
        }
      ],
      "source": [
        "import gradio as gr\n",
        "\n",
        "def predict(brand,\n",
        "           screen_size,\n",
        "           screen_resolution,\n",
        "            cpu,\n",
        "            gpu,\n",
        "            gpu_description,\n",
        "            color,\n",
        "            operating_system,\n",
        "            cpu_speed,\n",
        "            ram,\n",
        "            memory,\n",
        "            weight,\n",
        "            model):\n",
        "    vector = build_vector(brand,\n",
        "            screen_size,\n",
        "            screen_resolution,\n",
        "            cpu,\n",
        "            gpu,\n",
        "            gpu_description,\n",
        "            color,\n",
        "            operating_system,\n",
        "            cpu_speed,\n",
        "            ram,\n",
        "            memory,\n",
        "            weight)\n",
        "    # return vector.shape\n",
        "    for i in range(7):\n",
        "      vector[i] = np.log10(vector[i])\n",
        "\n",
        "    vector = vector.reshape(1,44)\n",
        "\n",
        "    if model == \"Ridge\":\n",
        "      prediction = ridge.predict(vector)\n",
        "    elif model == \"KNN\":\n",
        "      prediction = knn.predict(vector)\n",
        "    elif model == \"Decision Tree\":\n",
        "      prediction = dtree.predict(vector)\n",
        "    elif model == \"Random Forest\":\n",
        "      prediction = rf.predict(vector)\n",
        "    elif model == \"MLP\":\n",
        "      prediction = mlp.predict(vector)\n",
        "    elif model == \"Ensemble\":\n",
        "      prediction = ensemble_model.predict(vector)\n",
        "\n",
        "    return round(10**(float(prediction)), 2)\n",
        "\n",
        "demo = gr.Interface(\n",
        "    fn=predict,\n",
        "    inputs= [gr.Radio([\"Apple\", \"Acer\",\"Asus\",\"Dell\",\"Lenovo\",\"HP\"]),\n",
        "            \"number\",\n",
        "            \"text\",\n",
        "            gr.Radio(['amd_3',\n",
        "            'amd_5',\n",
        "            'amd_7',\n",
        "            'amd_9',\n",
        "            'amd_athlon',\n",
        "            'amd_r_series',\n",
        "            'apple',\n",
        "            'intel_celeron',\n",
        "            'intel_i3',\n",
        "            'intel_i5',\n",
        "            'intel_i7',\n",
        "            'intel_i9',\n",
        "            'intel_pentium',\n",
        "            'mediatek_mt8183',\n",
        "            'other']),\n",
        "            gr.Radio([\"apple\",\"intel\", \"nvidia\",\"amd\",\"others\"]),\n",
        "            gr.Radio([\"Intergrated\", \"Dedicated\"]),\n",
        "            gr.Radio(['black','blue','gold','grey','other','silver','white']), #color\n",
        "            gr.Radio([\"Windows\", \"MacOS\"]), # operatings system\n",
        "            \"number\", #cpu_speed\n",
        "            \"number\", #ram\n",
        "            \"number\", #memory\n",
        "            \"number\", # weight\n",
        "            gr.Radio([\"Ridge\",\"KNN\",\"Decision Tree\",\"Random Forest\",\"MLP\", \"Ensemble\"])],\n",
        "\n",
        "    outputs=[\"number\"]\n",
        ")\n",
        "demo.launch()"
      ]
    },
    {
      "cell_type": "code",
      "execution_count": null,
      "metadata": {},
      "outputs": [],
      "source": []
    }
  ],
  "metadata": {
    "colab": {
      "collapsed_sections": [
        "CVPSkG4tm0Gr"
      ],
      "provenance": []
    },
    "kernelspec": {
      "display_name": "Python 3",
      "name": "python3"
    },
    "language_info": {
      "codemirror_mode": {
        "name": "ipython",
        "version": 3
      },
      "file_extension": ".py",
      "mimetype": "text/x-python",
      "name": "python",
      "nbconvert_exporter": "python",
      "pygments_lexer": "ipython3",
      "version": "3.9.6"
    }
  },
  "nbformat": 4,
  "nbformat_minor": 0
}
